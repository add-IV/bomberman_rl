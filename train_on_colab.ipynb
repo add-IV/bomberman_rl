{
  "nbformat": 4,
  "nbformat_minor": 0,
  "metadata": {
    "colab": {
      "provenance": [],
      "gpuType": "T4"
    },
    "kernelspec": {
      "name": "python3",
      "display_name": "Python 3"
    },
    "language_info": {
      "name": "python"
    },
    "accelerator": "GPU"
  },
  "cells": [
    {
      "cell_type": "code",
      "execution_count": null,
      "metadata": {
        "id": "cIHeR4ghoabb"
      },
      "outputs": [],
      "source": [
        "import torch\n",
        "import torch.nn as nn\n",
        "import torch.optim as optim\n",
        "import pickle\n",
        "from collections import namedtuple"
      ]
    },
    {
      "cell_type": "code",
      "source": [
        "device = torch.device ('cuda' if torch.cuda.is_available() else 'cpu')\n",
        "device"
      ],
      "metadata": {
        "colab": {
          "base_uri": "https://localhost:8080/"
        },
        "id": "z75Hjluhobx_",
        "outputId": "843acc1d-1c7c-4469-fb66-dee2b79f32f5"
      },
      "execution_count": null,
      "outputs": [
        {
          "output_type": "execute_result",
          "data": {
            "text/plain": [
              "device(type='cuda')"
            ]
          },
          "metadata": {},
          "execution_count": 2
        }
      ]
    },
    {
      "cell_type": "code",
      "source": [
        "TrainingData = namedtuple(\"TrainingData\", [\"netwrok_input\", \"action\", \"reward\"])"
      ],
      "metadata": {
        "id": "1UDOXFsAopGi"
      },
      "execution_count": null,
      "outputs": []
    },
    {
      "cell_type": "code",
      "source": [
        "!unzip training_data_cleaned.zip"
      ],
      "metadata": {
        "colab": {
          "base_uri": "https://localhost:8080/"
        },
        "id": "met_Ceh9QGf3",
        "outputId": "b6f01dc0-cc4d-4155-8cf9-c220e14700f3"
      },
      "execution_count": null,
      "outputs": [
        {
          "output_type": "stream",
          "name": "stdout",
          "text": [
            "Archive:  training_data_cleaned.zip\n",
            "replace training_data_cleaned.pt? [y]es, [n]o, [A]ll, [N]one, [r]ename: "
          ]
        }
      ]
    },
    {
      "cell_type": "code",
      "source": [
        "with open(\"training_data_cleaned.pt\", \"rb\") as f:\n",
        "    data = pickle.load(f)"
      ],
      "metadata": {
        "id": "Hr4o-aRuoqcc"
      },
      "execution_count": null,
      "outputs": []
    },
    {
      "cell_type": "code",
      "source": [
        "from torch.utils.data import DataLoader, Dataset, random_split\n",
        "\n",
        "\n",
        "ACTIONS = [\"UP\", \"DOWN\", \"LEFT\", \"RIGHT\", \"WAIT\", \"BOMB\"]\n",
        "\n",
        "class Custom_Dataset(Dataset):\n",
        "    def __init__(self, data):\n",
        "        self.data = data\n",
        "\n",
        "    def __len__(self):\n",
        "        return len(self.data)\n",
        "\n",
        "    def __getitem__(self, idx):\n",
        "        datapoint = self.data[idx]\n",
        "        board = datapoint.netwrok_input\n",
        "        board = torch.squeeze(board, 0).to(device)\n",
        "        action = datapoint.action\n",
        "        action = torch.tensor(action).to(device)\n",
        "        reward = torch.tensor(datapoint.reward, dtype=torch.float32).to(device)\n",
        "        label = (action, reward)\n",
        "        return board, label\n",
        "\n",
        "train_size = int(0.8 * len(data))\n",
        "\n",
        "train_data, test_data = random_split(data, [train_size, len(data) - train_size])\n"
      ],
      "metadata": {
        "id": "xJkEWGFFpFyF"
      },
      "execution_count": null,
      "outputs": []
    },
    {
      "cell_type": "code",
      "source": [
        "len(train_data)"
      ],
      "metadata": {
        "colab": {
          "base_uri": "https://localhost:8080/"
        },
        "id": "3i6w-1GlpIC4",
        "outputId": "393ec663-343c-4c9a-bf15-88e1d55e69c7"
      },
      "execution_count": null,
      "outputs": [
        {
          "output_type": "execute_result",
          "data": {
            "text/plain": [
              "302047"
            ]
          },
          "metadata": {},
          "execution_count": 10
        }
      ]
    },
    {
      "cell_type": "code",
      "source": [
        "train_loader = DataLoader(Custom_Dataset(train_data), batch_size=32, shuffle=True)\n",
        "test_loader = DataLoader(Custom_Dataset(test_data), batch_size=32, shuffle=True)"
      ],
      "metadata": {
        "id": "TlqkDiTGpIvP"
      },
      "execution_count": null,
      "outputs": []
    },
    {
      "cell_type": "code",
      "source": [
        "from deep_network import MCTSNetwork, save_model, load_model\n",
        "\n",
        "model = MCTSNetwork().to(device)"
      ],
      "metadata": {
        "id": "yjr-kVogpJjW"
      },
      "execution_count": null,
      "outputs": []
    },
    {
      "cell_type": "code",
      "source": [
        "loss_policy = nn.CrossEntropyLoss()\n",
        "loss_value = nn.MSELoss()\n",
        "\n",
        "optimizer = optim.Adam(model.parameters(), lr=0.001)"
      ],
      "metadata": {
        "id": "Ek5Ab1TSpKK1"
      },
      "execution_count": null,
      "outputs": []
    },
    {
      "cell_type": "code",
      "source": [
        "from torch.utils.tensorboard import SummaryWriter\n",
        "from datetime import datetime"
      ],
      "metadata": {
        "id": "0ltPTQY_pLLr"
      },
      "execution_count": null,
      "outputs": []
    },
    {
      "cell_type": "code",
      "source": [
        "def train_one_epoch(epoch_index, tb_writer):\n",
        "    running_loss = 0.0\n",
        "    last_loss = 0.0\n",
        "\n",
        "    for i, data in enumerate(train_loader):\n",
        "        inputs, labels = data\n",
        "        action_labels, value_labels = labels\n",
        "        optimizer.zero_grad()\n",
        "        outputs = model(inputs)\n",
        "        value_outputs, action_outputs = outputs\n",
        "        value_outputs = torch.squeeze(value_outputs, 1)\n",
        "\n",
        "        action_loss = loss_policy(action_outputs, action_labels)\n",
        "        value_loss = loss_value(value_outputs, value_labels)\n",
        "        loss = action_loss + value_loss\n",
        "        loss.backward()\n",
        "\n",
        "        optimizer.step()\n",
        "\n",
        "        # Gather data and report\n",
        "        running_loss += loss.item()\n",
        "        if i % 1000 == 999:\n",
        "            last_loss = running_loss / 1000 # loss per batch\n",
        "            print('  batch {} loss: {}'.format(i + 1, last_loss))\n",
        "            tb_x = epoch_index * len(train_loader) + i + 1\n",
        "            tb_writer.add_scalar('Loss/train', last_loss, tb_x)\n",
        "            running_loss = 0.\n",
        "\n",
        "    return last_loss"
      ],
      "metadata": {
        "id": "HW9xXbKrpL8e"
      },
      "execution_count": null,
      "outputs": []
    },
    {
      "cell_type": "code",
      "source": [
        "# Initializing in a separate cell so we can easily add more epochs to the same run\n",
        "timestamp = datetime.now().strftime('%Y%m%d_%H%M%S')\n",
        "writer = SummaryWriter('runs/train_mcts_model{}'.format(timestamp))\n",
        "epoch_number = 0\n",
        "\n",
        "EPOCHS = 5\n",
        "\n",
        "best_vloss = 1_000_000.\n",
        "\n",
        "for epoch in range(EPOCHS):\n",
        "    print('EPOCH {}:'.format(epoch_number + 1))\n",
        "\n",
        "    # Make sure gradient tracking is on, and do a pass over the data\n",
        "    model.train(True)\n",
        "    avg_loss = train_one_epoch(epoch_number, writer)\n",
        "\n",
        "\n",
        "    running_vloss = 0.0\n",
        "    # Set the model to evaluation mode, disabling dropout and using population\n",
        "    # statistics for batch normalization.\n",
        "    model.eval()\n",
        "\n",
        "    # Disable gradient computation and reduce memory consumption.\n",
        "    with torch.no_grad():\n",
        "        for i, vdata in enumerate(test_loader):\n",
        "            vinputs, vlabels = vdata\n",
        "            vaction_labels, vvalue_labels = vlabels\n",
        "            vaction_labels = vaction_labels\n",
        "            vvalue_labels = vvalue_labels[:, None]\n",
        "            voutputs = model(vinputs)\n",
        "            vvalue_outputs, vaction_outputs = voutputs\n",
        "\n",
        "            vaction_loss = loss_policy(vaction_outputs, vaction_labels)\n",
        "            vvalue_loss = loss_value(vvalue_outputs, vvalue_labels)\n",
        "            vloss = vaction_loss + vvalue_loss\n",
        "            running_vloss += vloss\n",
        "\n",
        "    avg_vloss = running_vloss / (i + 1)\n",
        "    print('LOSS train {} valid {}'.format(avg_loss, avg_vloss))\n",
        "\n",
        "    # Log the running loss averaged per batch\n",
        "    # for both training and validation\n",
        "    writer.add_scalars('Training vs. Validation Loss',\n",
        "                    { 'Training' : avg_loss, 'Validation' : avg_vloss },\n",
        "                    epoch_number + 1)\n",
        "    writer.flush()\n",
        "\n",
        "    # Track best performance, and save the model's state\n",
        "    if avg_vloss < best_vloss:\n",
        "        best_vloss = avg_vloss\n",
        "        model_path = 'model_{}_{}'.format(timestamp, epoch_number)\n",
        "        torch.save(model.state_dict(), model_path)\n",
        "\n",
        "    epoch_number += 1"
      ],
      "metadata": {
        "colab": {
          "base_uri": "https://localhost:8080/"
        },
        "id": "U03FCbhPpNhX",
        "outputId": "287245c3-f18f-408e-959c-7d0a76b10291"
      },
      "execution_count": null,
      "outputs": [
        {
          "output_type": "stream",
          "name": "stdout",
          "text": [
            "EPOCH 1:\n",
            "  batch 1000 loss: 1.4940115375518799\n",
            "  batch 2000 loss: 1.423982370853424\n",
            "  batch 3000 loss: 1.4111077930927276\n",
            "  batch 4000 loss: 1.4111725059747695\n",
            "  batch 5000 loss: 1.4075127046108247\n",
            "  batch 6000 loss: 1.4021588814258577\n",
            "  batch 7000 loss: 1.402689187169075\n",
            "  batch 8000 loss: 1.4052076382637024\n",
            "  batch 9000 loss: 1.3951623042821883\n",
            "LOSS train 1.3951623042821883 valid 1.3920483589172363\n",
            "EPOCH 2:\n",
            "  batch 1000 loss: 1.3972736817598344\n",
            "  batch 2000 loss: 1.3956752136945725\n",
            "  batch 3000 loss: 1.3996170933246612\n",
            "  batch 4000 loss: 1.391513397336006\n",
            "  batch 5000 loss: 1.3956113802194596\n",
            "  batch 6000 loss: 1.3929737962484359\n",
            "  batch 7000 loss: 1.3984960366487502\n",
            "  batch 8000 loss: 1.3917562190294266\n",
            "  batch 9000 loss: 1.391571696281433\n",
            "LOSS train 1.391571696281433 valid 1.3862462043762207\n",
            "EPOCH 3:\n",
            "  batch 1000 loss: 1.3939559390544891\n",
            "  batch 2000 loss: 1.3865705012083054\n",
            "  batch 3000 loss: 1.385343130350113\n",
            "  batch 4000 loss: 1.3932771669626236\n",
            "  batch 5000 loss: 1.388243237018585\n",
            "  batch 6000 loss: 1.388571921825409\n",
            "  batch 7000 loss: 1.3915400055646896\n",
            "  batch 8000 loss: 1.3851993750333786\n",
            "  batch 9000 loss: 1.3855258566141129\n",
            "LOSS train 1.3855258566141129 valid 1.3849555253982544\n",
            "EPOCH 4:\n",
            "  batch 1000 loss: 1.386503872513771\n",
            "  batch 2000 loss: 1.3853812670707704\n",
            "  batch 3000 loss: 1.388255393266678\n",
            "  batch 4000 loss: 1.386693000435829\n",
            "  batch 5000 loss: 1.3884829927682876\n",
            "  batch 6000 loss: 1.3840783219337462\n",
            "  batch 7000 loss: 1.3869004397392273\n",
            "  batch 8000 loss: 1.380889801621437\n",
            "  batch 9000 loss: 1.3867601363658906\n",
            "LOSS train 1.3867601363658906 valid 1.3826652765274048\n",
            "EPOCH 5:\n",
            "  batch 1000 loss: 1.3801239475011826\n",
            "  batch 2000 loss: 1.3843854897022247\n",
            "  batch 3000 loss: 1.3868483409881591\n",
            "  batch 4000 loss: 1.3834919298887254\n",
            "  batch 5000 loss: 1.3814351702928542\n",
            "  batch 6000 loss: 1.3828764560222626\n",
            "  batch 7000 loss: 1.3862690443992616\n",
            "  batch 8000 loss: 1.3860422847270966\n",
            "  batch 9000 loss: 1.3832250064611435\n",
            "LOSS train 1.3832250064611435 valid 1.380376935005188\n"
          ]
        }
      ]
    },
    {
      "cell_type": "code",
      "source": [
        "save_model(model, \"mcts_model.pt\")"
      ],
      "metadata": {
        "id": "rOxuOSoTte6e"
      },
      "execution_count": null,
      "outputs": []
    },
    {
      "cell_type": "code",
      "source": [
        "!zip -r runs.zip runs/"
      ],
      "metadata": {
        "colab": {
          "base_uri": "https://localhost:8080/"
        },
        "id": "2BtNb1-QULIB",
        "outputId": "10e8a1ae-d1a5-493e-c4a5-f29147954474"
      },
      "execution_count": null,
      "outputs": [
        {
          "output_type": "stream",
          "name": "stdout",
          "text": [
            "  adding: runs/ (stored 0%)\n",
            "  adding: runs/train_mcts_model20240923_013213/ (stored 0%)\n",
            "  adding: runs/train_mcts_model20240923_013213/events.out.tfevents.1727055133.eb3f025b953f.2111.3 (deflated 9%)\n",
            "  adding: runs/train_mcts_model20240923_013057/ (stored 0%)\n",
            "  adding: runs/train_mcts_model20240923_013057/events.out.tfevents.1727055057.eb3f025b953f.2111.1 (deflated 9%)\n",
            "  adding: runs/train_mcts_model20240923_013710/ (stored 0%)\n",
            "  adding: runs/train_mcts_model20240923_013710/events.out.tfevents.1727055430.eb3f025b953f.4818.0 (deflated 58%)\n",
            "  adding: runs/train_mcts_model20240923_013710/Training vs. Validation Loss_Training/ (stored 0%)\n",
            "  adding: runs/train_mcts_model20240923_013710/Training vs. Validation Loss_Training/events.out.tfevents.1727055506.eb3f025b953f.4818.1 (deflated 48%)\n",
            "  adding: runs/train_mcts_model20240923_013710/Training vs. Validation Loss_Validation/ (stored 0%)\n",
            "  adding: runs/train_mcts_model20240923_013710/Training vs. Validation Loss_Validation/events.out.tfevents.1727055506.eb3f025b953f.4818.2 (deflated 48%)\n",
            "  adding: runs/train_mcts_model20240923_013101/ (stored 0%)\n",
            "  adding: runs/train_mcts_model20240923_013101/events.out.tfevents.1727055061.eb3f025b953f.2111.2 (deflated 9%)\n",
            "  adding: runs/train_mcts_model20240923_013238/ (stored 0%)\n",
            "  adding: runs/train_mcts_model20240923_013238/events.out.tfevents.1727055158.eb3f025b953f.2111.4 (deflated 9%)\n",
            "  adding: runs/train_mcts_model20240923_013002/ (stored 0%)\n",
            "  adding: runs/train_mcts_model20240923_013002/events.out.tfevents.1727055002.eb3f025b953f.2111.0 (deflated 9%)\n"
          ]
        }
      ]
    }
  ]
}