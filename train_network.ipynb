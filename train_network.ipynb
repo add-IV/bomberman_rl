{
  "cells": [
    {
      "cell_type": "code",
      "execution_count": 1,
      "metadata": {
        "id": "cIHeR4ghoabb"
      },
      "outputs": [],
      "source": [
        "import torch\n",
        "import torch.nn as nn\n",
        "import torch.optim as optim\n",
        "import pickle\n",
        "from collections import namedtuple"
      ]
    },
    {
      "cell_type": "code",
      "execution_count": 2,
      "metadata": {
        "colab": {
          "base_uri": "https://localhost:8080/"
        },
        "id": "z75Hjluhobx_",
        "outputId": "03af76d8-ec3f-412a-bf83-7593de3538cc"
      },
      "outputs": [
        {
          "data": {
            "text/plain": [
              "device(type='cpu')"
            ]
          },
          "execution_count": 2,
          "metadata": {},
          "output_type": "execute_result"
        }
      ],
      "source": [
        "device = torch.device ('cuda' if torch.cuda.is_available() else 'cpu')\n",
        "device"
      ]
    },
    {
      "cell_type": "code",
      "execution_count": 3,
      "metadata": {
        "id": "1UDOXFsAopGi"
      },
      "outputs": [],
      "source": [
        "Datapoint = namedtuple(\"Datapoint\", (\"network_input\", \"action\", \"discounted_reward\"))"
      ]
    },
    {
      "cell_type": "code",
      "execution_count": 5,
      "metadata": {
        "id": "Hr4o-aRuoqcc"
      },
      "outputs": [],
      "source": [
        "Datapoint = namedtuple(\"Datapoint\", (\"network_input\", \"action\", \"discounted_reward\"))\n",
        "with open(\"training_data_cleaned.pt\", \"rb\") as f:\n",
        "    data = pickle.load(f)"
      ]
    },
    {
      "cell_type": "code",
      "execution_count": 7,
      "metadata": {
        "id": "xJkEWGFFpFyF"
      },
      "outputs": [],
      "source": [
        "from torch.utils.data import DataLoader, Dataset, random_split\n",
        "\n",
        "\n",
        "ACTIONS = [\"UP\", \"DOWN\", \"LEFT\", \"RIGHT\", \"WAIT\", \"BOMB\"]\n",
        "\n",
        "class Custom_Dataset(Dataset):\n",
        "    def __init__(self, data):\n",
        "        self.data = data\n",
        "\n",
        "    def __len__(self):\n",
        "        return len(self.data)\n",
        "\n",
        "    def __getitem__(self, idx):\n",
        "        datapoint = self.data[idx]\n",
        "        board = datapoint.network_input\n",
        "        board = torch.squeeze(board, 0).to(device)\n",
        "        action = datapoint.action if datapoint.action else \"WAIT\"\n",
        "        action = torch.tensor(ACTIONS.index(action)).to(device)\n",
        "        reward = torch.tensor(datapoint.discounted_reward).to(device)\n",
        "        label = (action, reward)\n",
        "        return board, label\n",
        "\n",
        "train_size = int(0.8 * len(data))\n",
        "\n",
        "train_data, test_data = random_split(data, [train_size, len(data) - train_size])\n"
      ]
    },
    {
      "cell_type": "code",
      "execution_count": 8,
      "metadata": {
        "colab": {
          "base_uri": "https://localhost:8080/"
        },
        "id": "3i6w-1GlpIC4",
        "outputId": "9e2590d2-05d7-4758-c1b8-fc2c78d12862"
      },
      "outputs": [
        {
          "data": {
            "text/plain": [
              "307024"
            ]
          },
          "execution_count": 8,
          "metadata": {},
          "output_type": "execute_result"
        }
      ],
      "source": [
        "len(train_data)"
      ]
    },
    {
      "cell_type": "code",
      "execution_count": 9,
      "metadata": {
        "id": "TlqkDiTGpIvP"
      },
      "outputs": [],
      "source": [
        "train_loader = DataLoader(Custom_Dataset(train_data), batch_size=32, shuffle=True)\n",
        "test_loader = DataLoader(Custom_Dataset(test_data), batch_size=32, shuffle=True)"
      ]
    },
    {
      "cell_type": "code",
      "execution_count": 11,
      "metadata": {
        "id": "yjr-kVogpJjW"
      },
      "outputs": [],
      "source": [
        "from deep_network import MCTSNetwork, save_model, load_model\n",
        "\n",
        "model = MCTSNetwork().to(device)"
      ]
    },
    {
      "cell_type": "code",
      "execution_count": 12,
      "metadata": {
        "id": "Ek5Ab1TSpKK1"
      },
      "outputs": [],
      "source": [
        "loss_policy = nn.CrossEntropyLoss()\n",
        "loss_value = nn.MSELoss()\n",
        "\n",
        "optimizer = optim.Adam(model.parameters(), lr=0.001)"
      ]
    },
    {
      "cell_type": "code",
      "execution_count": 13,
      "metadata": {
        "id": "0ltPTQY_pLLr"
      },
      "outputs": [],
      "source": [
        "from torch.utils.tensorboard import SummaryWriter\n",
        "from datetime import datetime"
      ]
    },
    {
      "cell_type": "code",
      "execution_count": 14,
      "metadata": {
        "id": "HW9xXbKrpL8e"
      },
      "outputs": [],
      "source": [
        "def train_one_epoch(epoch_index, tb_writer):\n",
        "    running_loss = 0.0\n",
        "    last_loss = 0.0\n",
        "\n",
        "    for i, data in enumerate(train_loader):\n",
        "        inputs, labels = data\n",
        "        action_labels, value_labels = labels\n",
        "        optimizer.zero_grad()\n",
        "        outputs = model(inputs)\n",
        "        value_outputs, action_outputs = outputs\n",
        "        value_outputs = torch.squeeze(value_outputs, 1)\n",
        "\n",
        "        action_loss = loss_policy(action_outputs, action_labels)\n",
        "        value_loss = loss_value(value_outputs, value_labels)\n",
        "        loss = action_loss + value_loss\n",
        "        loss.backward()\n",
        "\n",
        "        optimizer.step()\n",
        "\n",
        "        # Gather data and report\n",
        "        running_loss += loss.item()\n",
        "        if i % 1000 == 999:\n",
        "            last_loss = running_loss / 1000 # loss per batch\n",
        "            print('  batch {} loss: {}'.format(i + 1, last_loss))\n",
        "            tb_x = epoch_index * len(train_loader) + i + 1\n",
        "            tb_writer.add_scalar('Loss/train', last_loss, tb_x)\n",
        "            running_loss = 0.\n",
        "\n",
        "    return last_loss"
      ]
    },
    {
      "cell_type": "code",
      "execution_count": null,
      "metadata": {
        "colab": {
          "base_uri": "https://localhost:8080/"
        },
        "id": "U03FCbhPpNhX",
        "outputId": "94471c00-78c4-4e85-997e-ce2782f96144"
      },
      "outputs": [
        {
          "name": "stdout",
          "output_type": "stream",
          "text": [
            "EPOCH 1:\n",
            "  batch 1000 loss: 1.6036082782745362\n",
            "  batch 2000 loss: 1.50031951212883\n",
            "  batch 3000 loss: 1.494853812098503\n",
            "  batch 4000 loss: 1.4809586511850357\n",
            "  batch 5000 loss: 1.4789516509771348\n",
            "  batch 6000 loss: 1.47475180375576\n",
            "  batch 7000 loss: 1.4679318443536757\n",
            "  batch 8000 loss: 1.4727025296688079\n",
            "  batch 9000 loss: 1.465678373336792\n",
            "LOSS train 1.465678373336792 valid 1.4628123044967651\n",
            "EPOCH 2:\n",
            "  batch 1000 loss: 1.4573805178403854\n",
            "  batch 2000 loss: 1.4609615030288696\n",
            "  batch 3000 loss: 1.4654378856420518\n",
            "  batch 4000 loss: 1.4545039182901383\n",
            "  batch 5000 loss: 1.4567536331415176\n",
            "  batch 6000 loss: 1.4586019105911254\n",
            "  batch 7000 loss: 1.450035817027092\n",
            "  batch 8000 loss: 1.4432693802118302\n",
            "  batch 9000 loss: 1.4478336571455002\n",
            "LOSS train 1.4478336571455002 valid 1.4484941959381104\n",
            "EPOCH 3:\n",
            "  batch 1000 loss: 1.4429887256622314\n",
            "  batch 2000 loss: 1.4398429354429245\n",
            "  batch 3000 loss: 1.4470537085533142\n",
            "  batch 4000 loss: 1.436425262451172\n",
            "  batch 5000 loss: 1.4409390127658843\n",
            "  batch 6000 loss: 1.4456280168294906\n",
            "  batch 7000 loss: 1.4426094378232956\n",
            "  batch 8000 loss: 1.438217197418213\n",
            "  batch 9000 loss: 1.4446125464439392\n"
          ]
        }
      ],
      "source": [
        "# Initializing in a separate cell so we can easily add more epochs to the same run\n",
        "timestamp = datetime.now().strftime('%Y%m%d_%H%M%S')\n",
        "writer = SummaryWriter('runs/train_mcts_model{}'.format(timestamp))\n",
        "epoch_number = 0\n",
        "\n",
        "EPOCHS = 5\n",
        "\n",
        "best_vloss = 1_000_000.\n",
        "\n",
        "for epoch in range(EPOCHS):\n",
        "    print('EPOCH {}:'.format(epoch_number + 1))\n",
        "\n",
        "    # Make sure gradient tracking is on, and do a pass over the data\n",
        "    model.train(True)\n",
        "    avg_loss = train_one_epoch(epoch_number, writer)\n",
        "\n",
        "\n",
        "    running_vloss = 0.0\n",
        "    # Set the model to evaluation mode, disabling dropout and using population\n",
        "    # statistics for batch normalization.\n",
        "    model.eval()\n",
        "\n",
        "    # Disable gradient computation and reduce memory consumption.\n",
        "    with torch.no_grad():\n",
        "        for i, vdata in enumerate(test_loader):\n",
        "            vinputs, vlabels = vdata\n",
        "            vaction_labels, vvalue_labels = vlabels\n",
        "            vaction_labels = vaction_labels\n",
        "            vvalue_labels = vvalue_labels[:, None]\n",
        "            voutputs = model(vinputs)\n",
        "            vvalue_outputs, vaction_outputs = voutputs\n",
        "\n",
        "            vaction_loss = loss_policy(vaction_outputs, vaction_labels)\n",
        "            vvalue_loss = loss_value(vvalue_outputs, vvalue_labels)\n",
        "            vloss = vaction_loss + vvalue_loss\n",
        "            running_vloss += vloss\n",
        "\n",
        "    avg_vloss = running_vloss / (i + 1)\n",
        "    print('LOSS train {} valid {}'.format(avg_loss, avg_vloss))\n",
        "\n",
        "    # Log the running loss averaged per batch\n",
        "    # for both training and validation\n",
        "    writer.add_scalars('Training vs. Validation Loss',\n",
        "                    { 'Training' : avg_loss, 'Validation' : avg_vloss },\n",
        "                    epoch_number + 1)\n",
        "    writer.flush()\n",
        "\n",
        "    # Track best performance, and save the model's state\n",
        "    if avg_vloss < best_vloss:\n",
        "        best_vloss = avg_vloss\n",
        "        model_path = 'model_{}_{}'.format(timestamp, epoch_number)\n",
        "        torch.save(model.state_dict(), model_path)\n",
        "\n",
        "    epoch_number += 1"
      ]
    },
    {
      "cell_type": "code",
      "execution_count": null,
      "metadata": {
        "id": "Ip_OmZQOq03E"
      },
      "outputs": [],
      "source": [
        "save_model(model, \"mcts_model.pt\")"
      ]
    }
  ],
  "metadata": {
    "accelerator": "GPU",
    "colab": {
      "gpuType": "T4",
      "provenance": []
    },
    "kernelspec": {
      "display_name": "Python 3",
      "name": "python3"
    },
    "language_info": {
      "codemirror_mode": {
        "name": "ipython",
        "version": 3
      },
      "file_extension": ".py",
      "mimetype": "text/x-python",
      "name": "python",
      "nbconvert_exporter": "python",
      "pygments_lexer": "ipython3",
      "version": "3.12.4"
    }
  },
  "nbformat": 4,
  "nbformat_minor": 0
}
