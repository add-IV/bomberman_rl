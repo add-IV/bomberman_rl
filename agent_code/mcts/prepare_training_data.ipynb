{
 "cells": [
  {
   "cell_type": "code",
   "execution_count": 12,
   "metadata": {},
   "outputs": [],
   "source": [
    "import numpy as np\n",
    "\n",
    "rewards = np.load(\"../training_data/training_data_rewards.npy\")"
   ]
  },
  {
   "cell_type": "code",
   "execution_count": 4,
   "metadata": {},
   "outputs": [],
   "source": [
    "import pickle\n",
    "import sys\n",
    "sys.path.append(\"../..\")\n",
    "\n",
    "training_data = pickle.load(open(\"../training_data/training_data.pt\", \"rb\"))"
   ]
  },
  {
   "cell_type": "code",
   "execution_count": 10,
   "metadata": {},
   "outputs": [],
   "source": [
    "from collections import namedtuple\n",
    "\n",
    "from agent_code.mcts.game_state import state_from_game_state\n",
    "from agent_code.mcts.state_explorer import GameState\n",
    "\n",
    "ACTIONS = [\"UP\", \"DOWN\", \"LEFT\", \"RIGHT\", \"WAIT\", \"BOMB\"]\n",
    "\n",
    "TrainingData = namedtuple(\"TrainingData\", [\"netwrok_input\", \"action\", \"reward\"])\n",
    "cleaned_data = []\n",
    "\n",
    "for idx, datapoint in enumerate(training_data):\n",
    "    network_input = state_from_game_state(GameState(**datapoint.state))\n",
    "    if datapoint.action not in ACTIONS:\n",
    "        continue\n",
    "    action = ACTIONS.index(datapoint.action)\n",
    "    reward = rewards[idx]\n",
    "    cleaned_data.append(TrainingData(network_input, action, reward))"
   ]
  },
  {
   "cell_type": "code",
   "execution_count": 16,
   "metadata": {},
   "outputs": [],
   "source": [
    "pickle.dump(cleaned_data, open(\"training_data_cleaned.pt\", \"wb\"))"
   ]
  }
 ],
 "metadata": {
  "kernelspec": {
   "display_name": "Python 3",
   "language": "python",
   "name": "python3"
  },
  "language_info": {
   "codemirror_mode": {
    "name": "ipython",
    "version": 3
   },
   "file_extension": ".py",
   "mimetype": "text/x-python",
   "name": "python",
   "nbconvert_exporter": "python",
   "pygments_lexer": "ipython3",
   "version": "3.12.4"
  }
 },
 "nbformat": 4,
 "nbformat_minor": 2
}
