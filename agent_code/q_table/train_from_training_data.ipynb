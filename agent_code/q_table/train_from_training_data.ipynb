{
 "cells": [
  {
   "cell_type": "code",
   "execution_count": 3,
   "metadata": {},
   "outputs": [],
   "source": [
    "from collections import namedtuple\n",
    "import pickle\n",
    "import sys\n",
    "sys.path.append(\"../..\")\n",
    "\n",
    "Transition = namedtuple(\"Transition\", (\"state\", \"action\", \"next_state\", \"reward\"))\n",
    "\n",
    "with open(\"../training_data/training_data.pt\", \"rb\") as f:\n",
    "    training_data = pickle.load(f)"
   ]
  },
  {
   "cell_type": "code",
   "execution_count": 5,
   "metadata": {},
   "outputs": [],
   "source": [
    "import numpy as np\n",
    "\n",
    "rewards = np.load(\"../training_data/training_data_rewards.npy\")"
   ]
  },
  {
   "cell_type": "code",
   "execution_count": 9,
   "metadata": {},
   "outputs": [
    {
     "name": "stderr",
     "output_type": "stream",
     "text": [
      "383781it [03:28, 1838.46it/s]\n"
     ]
    }
   ],
   "source": [
    "from game_state import state_to_index\n",
    "import tqdm\n",
    "\n",
    "q_table_train_data = []\n",
    "\n",
    "for i, data in tqdm.tqdm(enumerate(training_data)):\n",
    "    state, action, next_state, reward = data\n",
    "    if next_state is None:\n",
    "        continue\n",
    "    index = state_to_index(state)\n",
    "    next_index = state_to_index(next_state)\n",
    "    q_table_train_data.append([index, action, next_index, rewards[i]])"
   ]
  },
  {
   "cell_type": "code",
   "execution_count": 10,
   "metadata": {},
   "outputs": [],
   "source": [
    "numpy_data = np.array(q_table_train_data)"
   ]
  },
  {
   "cell_type": "code",
   "execution_count": 11,
   "metadata": {},
   "outputs": [],
   "source": [
    "np.save(\"q_table_train_data.npy\", numpy_data)"
   ]
  },
  {
   "cell_type": "code",
   "execution_count": 26,
   "metadata": {},
   "outputs": [],
   "source": [
    "from agent_code.q_table.game_state import FeatureState\n",
    "from agent_code.q_table.actions import ACTIONS\n",
    "\n",
    "\n",
    "q_table = np.random.rand(FeatureState.feature_size(), len(ACTIONS))"
   ]
  },
  {
   "cell_type": "code",
   "execution_count": 27,
   "metadata": {},
   "outputs": [
    {
     "name": "stderr",
     "output_type": "stream",
     "text": [
      "100%|██████████| 10/10 [00:12<00:00,  1.27s/it]\n"
     ]
    }
   ],
   "source": [
    "from tqdm import trange\n",
    "\n",
    "EPOCHS = 10\n",
    "\n",
    "k = FeatureState.feature_size() * len(ACTIONS)\n",
    "t = 0\n",
    "\n",
    "for epoch in trange(EPOCHS):\n",
    "    q_table_copy = np.copy(q_table)\n",
    "\n",
    "    for data in np.random.permutation(numpy_data):\n",
    "        t += 1\n",
    "        index, action, next_index, reward = data\n",
    "        if action is None:\n",
    "            continue\n",
    "        action_index = ACTIONS.index(action)\n",
    "        old_q_value = q_table_copy[index, action_index]\n",
    "        learning_rate = k / (k + t)\n",
    "        new_q_value = old_q_value + learning_rate * (reward + max(q_table_copy[next_index]) - old_q_value)\n",
    "        q_table[index, action_index] = new_q_value"
   ]
  },
  {
   "cell_type": "code",
   "execution_count": 28,
   "metadata": {},
   "outputs": [],
   "source": [
    "np.save(\"my-saved-q-table.npy\", q_table)"
   ]
  }
 ],
 "metadata": {
  "kernelspec": {
   "display_name": "Python 3",
   "language": "python",
   "name": "python3"
  },
  "language_info": {
   "codemirror_mode": {
    "name": "ipython",
    "version": 3
   },
   "file_extension": ".py",
   "mimetype": "text/x-python",
   "name": "python",
   "nbconvert_exporter": "python",
   "pygments_lexer": "ipython3",
   "version": "3.12.4"
  }
 },
 "nbformat": 4,
 "nbformat_minor": 2
}
